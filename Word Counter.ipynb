{
 "cells": [
  {
   "cell_type": "code",
   "execution_count": 1,
   "id": "e1aad1e0",
   "metadata": {},
   "outputs": [
    {
     "name": "stdout",
     "output_type": "stream",
     "text": [
      "Enter a sentence or paragraph: hello guys my name is pradeep verma and i am a data scientist currently working as student\n",
      "Word count: 17\n"
     ]
    }
   ],
   "source": [
    "def count_words(input_text):\n",
    "    \n",
    "    # Check if the input text is empty\n",
    "    if not input_text.strip():\n",
    "        return 0\n",
    "\n",
    "    # Split the input text into words using whitespace as a delimiter\n",
    "    words = input_text.split()\n",
    "\n",
    "    # Return the count of words\n",
    "    return len(words)\n",
    "\n",
    "\n",
    "def main():\n",
    "    # Prompt the user to enter a sentence or paragraph\n",
    "    user_input = input(\"Enter a sentence or paragraph: \")\n",
    "\n",
    "    # Call the function to count words and handle errors\n",
    "    try:\n",
    "        word_count = count_words(user_input)\n",
    "        # Display the word count\n",
    "        print(f\"Word count: {word_count}\")\n",
    "    except Exception as e:\n",
    "        # Display an error message if an exception occurs\n",
    "        print(f\"Error: {e}\")\n",
    "\n",
    "\n",
    "# Run the main function if the script is executed\n",
    "if __name__ == \"__main__\":\n",
    "    main()\n"
   ]
  },
  {
   "cell_type": "code",
   "execution_count": null,
   "id": "c7dc3feb",
   "metadata": {},
   "outputs": [],
   "source": []
  }
 ],
 "metadata": {
  "kernelspec": {
   "display_name": "Python 3 (ipykernel)",
   "language": "python",
   "name": "python3"
  },
  "language_info": {
   "codemirror_mode": {
    "name": "ipython",
    "version": 3
   },
   "file_extension": ".py",
   "mimetype": "text/x-python",
   "name": "python",
   "nbconvert_exporter": "python",
   "pygments_lexer": "ipython3",
   "version": "3.10.9"
  }
 },
 "nbformat": 4,
 "nbformat_minor": 5
}
