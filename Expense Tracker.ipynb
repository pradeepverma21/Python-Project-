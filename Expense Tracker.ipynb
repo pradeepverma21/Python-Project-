{
 "cells": [
  {
   "cell_type": "code",
   "execution_count": null,
   "id": "16146e81",
   "metadata": {},
   "outputs": [],
   "source": [
    "import json\n",
    "import os\n",
    "from datetime import datetime\n",
    "\n",
    "# File to store expense data\n",
    "DATA_FILE = 'expense_data.json'\n",
    "\n",
    "def load_data():\n",
    "     # Load existing expense data from file if it exists\n",
    "    if os.path.exists(DATA_FILE):\n",
    "        with open(DATA_FILE, 'r') as file:\n",
    "            return json.load(file)\n",
    "\n",
    "    # If no file exists, initialize with an empty list of expenses\n",
    "    else:\n",
    "        return {'expenses': []}"
   ]
  },
  {
   "cell_type": "code",
   "execution_count": null,
   "id": "73e81dd7",
   "metadata": {},
   "outputs": [],
   "source": [
    "def save_data(data):\n",
    "    # Save updated expense data to the file\n",
    "    with open(DATA_FILE, 'w') as file:\n",
    "        json.dump(data, file, indent=2)"
   ]
  },
  {
   "cell_type": "code",
   "execution_count": null,
   "id": "375bb232",
   "metadata": {},
   "outputs": [],
   "source": [
    "def record_expense(amount, description, category):   \n",
    "    # Create a dictionary representing a single expense record\n",
    "    timestamp = datetime.now().strftime('%Y-%m-%d %H:%M:%S')\n",
    "    return {'timestamp': timestamp, 'amount': amount, 'description': description, 'category': category}"
   ]
  },
  {
   "cell_type": "code",
   "execution_count": null,
   "id": "1d929f15",
   "metadata": {},
   "outputs": [],
   "source": [
    "def add_expense(data, expense):\n",
    "    # Add a new expense record to the data and save it\n",
    "    data['expenses'].append(expense)\n",
    "    save_data(data)"
   ]
  },
  {
   "cell_type": "code",
   "execution_count": null,
   "id": "9d627256",
   "metadata": {},
   "outputs": [],
   "source": [
    "def view_expenses(data, month=None):\n",
    "    # Display a summary of expenses, optionally for a specific month\n",
    "    if not data['expenses']:\n",
    "        print(\"No expenses recorded.\")\n",
    "        return\n",
    "\n",
    "   # Filter expenses based on the specified month  \n",
    "    if month:\n",
    "        filtered_expenses = [expense for expense in data['expenses'] if expense['timestamp'].startswith(month)]\n",
    "    else:\n",
    "        filtered_expenses = data['expenses']\n",
    "\n",
    "    if not filtered_expenses:\n",
    "        print(f\"No expenses recorded for {month}.\")\n",
    "        return\n",
    "\n",
    "    total_expenses = sum(expense['amount'] for expense in filtered_expenses)\n",
    "    \n",
    "    print(\"\\nExpense Summary:\")\n",
    "    print(f\"Total Expenses: ${total_expenses:.2f}\")\n",
    "    \n",
    "    categories = set(expense['category'] for expense in filtered_expenses)\n",
    "    \n",
    "    print(\"\\nCategory-wise Expenditure:\")\n",
    "    for category in categories:\n",
    "        category_expenses = [expense for expense in filtered_expenses if expense['category'] == category]\n",
    "        category_total = sum(expense['amount'] for expense in category_expenses)\n",
    "        print(f\"{category}: ${category_total:.2f}\")"
   ]
  },
  {
   "cell_type": "code",
   "execution_count": null,
   "id": "ebe659d8",
   "metadata": {},
   "outputs": [],
   "source": [
    "def user_interface():\n",
    "    # Display the main menu\n",
    "    while True:\n",
    "        print(\"\\nExpense Tracker Menu:\")\n",
    "        print(\"1. Record Expense\")\n",
    "        print(\"2. View Monthly Expenses\")\n",
    "        print(\"3. Exit\")\n",
    "        # Get user input for menu selection\n",
    "        choice = input(\"Enter your choice (1/2/3): \")\n",
    "        \n",
    "        if choice == '1':\n",
    "            # Record a new expense based on user input\n",
    "            amount = float(input(\"Enter the amount spent: $\"))\n",
    "            description = input(\"Enter a brief description: \")\n",
    "            category = input(\"Enter the expense category: \")\n",
    "\n",
    "            expense = record_expense(amount, description, category)\n",
    "            data = load_data()\n",
    "            add_expense(data, expense)\n",
    "            print(\"Expense recorded successfully!\")\n",
    "        \n",
    "        # View monthly expenses based on user input\n",
    "        elif choice == '2':\n",
    "            month = input(\"Enter the month (YYYY-MM) to view expenses (press Enter for all): \")\n",
    "            data = load_data()\n",
    "            view_expenses(data, month)\n",
    "        # Exit the program\n",
    "        elif choice == '3':\n",
    "            print(\"Exiting Expense Tracker. Goodbye!\")\n",
    "            break\n",
    "        # Handle invalid menu choices\n",
    "        else:\n",
    "            print(\"Invalid choice. Please enter 1, 2, or 3.\")"
   ]
  },
  {
   "cell_type": "code",
   "execution_count": null,
   "id": "de3f16b6",
   "metadata": {
    "scrolled": true
   },
   "outputs": [],
   "source": [
    "if __name__ == \"__main__\":\n",
    "    # Start the Expense Tracker user interface\n",
    "    user_interface()"
   ]
  },
  {
   "cell_type": "code",
   "execution_count": null,
   "id": "793143d3",
   "metadata": {},
   "outputs": [],
   "source": []
  }
 ],
 "metadata": {
  "kernelspec": {
   "display_name": "Python 3 (ipykernel)",
   "language": "python",
   "name": "python3"
  },
  "language_info": {
   "codemirror_mode": {
    "name": "ipython",
    "version": 3
   },
   "file_extension": ".py",
   "mimetype": "text/x-python",
   "name": "python",
   "nbconvert_exporter": "python",
   "pygments_lexer": "ipython3",
   "version": "3.10.9"
  }
 },
 "nbformat": 4,
 "nbformat_minor": 5
}
