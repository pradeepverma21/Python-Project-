{
 "cells": [
  {
   "cell_type": "code",
   "execution_count": 1,
   "id": "df3b5930",
   "metadata": {},
   "outputs": [],
   "source": [
    "import random\n",
    "import string\n",
    "\n",
    "def generate_password(length=12):\n",
    "    characters = string.ascii_letters + string.digits + string.punctuation\n",
    "    password = ''.join(random.choice(characters) for _ in range(length))\n",
    "    return password"
   ]
  },
  {
   "cell_type": "code",
   "execution_count": 2,
   "id": "7d6b08ac",
   "metadata": {},
   "outputs": [],
   "source": [
    "def generate_multiple_passwords(num_passwords=1, length=12):\n",
    "    passwords = [generate_password(length) for _ in range(num_passwords)]\n",
    "    return passwords"
   ]
  },
  {
   "cell_type": "code",
   "execution_count": 3,
   "id": "4c1b8d1d",
   "metadata": {},
   "outputs": [
    {
     "name": "stdout",
     "output_type": "stream",
     "text": [
      "Enter the desired length of the password: 5\n",
      "Enter the number of passwords to generate: 5\n",
      "\n",
      "Generated Passwords:\n",
      "Password 1: jQvG,\n",
      "Password 2: JGQ!4\n",
      "Password 3: f[i/x\n",
      "Password 4: ,f%6G\n",
      "Password 5: [_l@U\n"
     ]
    }
   ],
   "source": [
    "if __name__ == \"__main__\":\n",
    "    try:\n",
    "        password_length = int(input(\"Enter the desired length of the password: \"))\n",
    "        num_passwords = int(input(\"Enter the number of passwords to generate: \"))\n",
    "        \n",
    "        if password_length <= 0 or num_passwords <= 0:\n",
    "            raise ValueError(\"Invalid input. Length and number of passwords must be greater than zero.\")\n",
    "\n",
    "        generated_passwords = generate_multiple_passwords(num_passwords, password_length)\n",
    "\n",
    "        print(\"\\nGenerated Passwords:\")\n",
    "        for i, password in enumerate(generated_passwords, start=1):\n",
    "            print(f\"Password {i}: {password}\")\n",
    "\n",
    "    except ValueError as e:\n",
    "        print(f\"Error: {e}\")\n"
   ]
  },
  {
   "cell_type": "code",
   "execution_count": null,
   "id": "40345b86",
   "metadata": {},
   "outputs": [],
   "source": []
  }
 ],
 "metadata": {
  "kernelspec": {
   "display_name": "Python 3 (ipykernel)",
   "language": "python",
   "name": "python3"
  },
  "language_info": {
   "codemirror_mode": {
    "name": "ipython",
    "version": 3
   },
   "file_extension": ".py",
   "mimetype": "text/x-python",
   "name": "python",
   "nbconvert_exporter": "python",
   "pygments_lexer": "ipython3",
   "version": "3.10.9"
  }
 },
 "nbformat": 4,
 "nbformat_minor": 5
}
